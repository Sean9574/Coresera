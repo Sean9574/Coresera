{
 "cells": [
  {
   "cell_type": "markdown",
   "id": "43297484-374a-4567-8314-23e7b46ae295",
   "metadata": {},
   "source": [
    "# Data Science Tools and Ecosystem"
   ]
  },
  {
   "cell_type": "markdown",
   "id": "fd06cb68-23d2-4fbe-a731-88e5fb501d7a",
   "metadata": {},
   "source": [
    "In this notebook, Data Science Tools and Ecosystem are summarized.\n"
   ]
  },
  {
   "cell_type": "markdown",
   "id": "c5b5fe1d-992f-474b-8c15-82d084b3579a",
   "metadata": {
    "tags": []
   },
   "source": [
    "| **Objectives |\n",
    "|------------|\n",
    "|Learning popular languages for Data Science|\n",
    "|Common Libraries used for Data Science |\n",
    "| Mutiplying then addding |"
   ]
  },
  {
   "cell_type": "markdown",
   "id": "17ff41b7-745d-4064-bf92-0165578aca68",
   "metadata": {},
   "source": [
    "Some of the popular languages that Data Scientists use are:\n",
    "1. Python\n",
    "2. C++\n",
    "3. JavaScript \n",
    "4. Java\n",
    "5. R\n",
    "6. SQL"
   ]
  },
  {
   "cell_type": "markdown",
   "id": "02d8c8ae-316e-4b3e-b6e6-12eb29d32ab9",
   "metadata": {},
   "source": [
    "Some of the commonly used libraries used by Data Scientists include:\n",
    "1. Scrapy\n",
    "2. Numpy\n",
    "3. SciPy\n",
    "4. Pandas\n",
    "5. Keras\n",
    "6. TensorFlow\n",
    "    \n",
    "    "
   ]
  },
  {
   "cell_type": "markdown",
   "id": "5a0fdce0-b982-4b82-8762-a0650315eabe",
   "metadata": {
    "tags": []
   },
   "source": [
    "| Data Science Tools |\n",
    "|---|\n",
    "|git | \n",
    "|Atom |\n",
    "|TensorFlow|"
   ]
  },
  {
   "cell_type": "markdown",
   "id": "e76a6641-900d-4db4-b3bc-a35bc6d974eb",
   "metadata": {},
   "source": [
    "### Below are a few examples of evaluating arithmetic expressions in Python\n",
    "1. 2 + 2 = 4\n",
    "2. 5 - 2 = 3\n",
    "3. 5 * 2 = 10"
   ]
  },
  {
   "cell_type": "code",
   "execution_count": 5,
   "id": "f96e5edb-edc0-47a1-9056-21126fbdecdd",
   "metadata": {
    "tags": []
   },
   "outputs": [
    {
     "name": "stdout",
     "output_type": "stream",
     "text": [
      "17\n"
     ]
    }
   ],
   "source": [
    "# This is a simple arithmetic expression to mutiply then add integers \n",
    "x = 3\n",
    "y = 4\n",
    "z = x * y + 5\n",
    "print(z)"
   ]
  },
  {
   "cell_type": "code",
   "execution_count": 4,
   "id": "70f4abb2-66e7-4270-baca-42c334136eb6",
   "metadata": {
    "tags": []
   },
   "outputs": [
    {
     "name": "stdout",
     "output_type": "stream",
     "text": [
      "3.3333333333333335\n"
     ]
    }
   ],
   "source": [
    "# This will convert 200 minutes to hours by diving by 60\n",
    "x = 200\n",
    "y = 60\n",
    "z = x/y\n",
    "print(z)"
   ]
  },
  {
   "cell_type": "markdown",
   "id": "c3622c6e-9edc-4707-97c7-4bd9b761bac4",
   "metadata": {},
   "source": [
    "## Author\n",
    "Sean Brainard "
   ]
  },
  {
   "cell_type": "code",
   "execution_count": null,
   "id": "d5715b15-9bcf-4d6e-ba98-ddbee633264a",
   "metadata": {},
   "outputs": [],
   "source": []
  }
 ],
 "metadata": {
  "kernelspec": {
   "display_name": "Python",
   "language": "python",
   "name": "conda-env-python-py"
  },
  "language_info": {
   "codemirror_mode": {
    "name": "ipython",
    "version": 3
   },
   "file_extension": ".py",
   "mimetype": "text/x-python",
   "name": "python",
   "nbconvert_exporter": "python",
   "pygments_lexer": "ipython3",
   "version": "3.7.12"
  }
 },
 "nbformat": 4,
 "nbformat_minor": 5
}
